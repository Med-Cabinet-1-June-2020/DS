{
 "nbformat": 4,
 "nbformat_minor": 0,
 "metadata": {
  "colab": {
   "name": "NLP Model Exploration.ipynb",
   "provenance": [],
   "collapsed_sections": []
  },
  "kernelspec": {
   "name": "python3",
   "display_name": "Python 3"
  }
 },
 "cells": [
  {
   "cell_type": "code",
   "metadata": {
    "id": "rHx0hErGQuXa",
    "colab_type": "code",
    "colab": {
     "base_uri": "https://localhost:8080/",
     "height": 35
    },
    "outputId": "5e4e58fe-43d4-48a4-c2e8-ebf1fc58d7bc"
   },
   "source": [
    "!pip install squarify"
   ],
   "execution_count": 113,
   "outputs": [
    {
     "output_type": "stream",
     "text": [
      "Requirement already satisfied: squarify in /usr/local/lib/python3.6/dist-packages (0.4.3)\n"
     ],
     "name": "stdout"
    }
   ]
  },
  {
   "cell_type": "code",
   "metadata": {
    "id": "ecgtiQccN5EM",
    "colab_type": "code",
    "colab": {}
   },
   "source": [
    "from sklearn.feature_extraction.text import CountVectorizer, TfidfVectorizer\n",
    "import matplotlib.pyplot as plt\n",
    "import pandas as pd\n",
    "import numpy as np\n",
    "import spacy\n",
    "import squarify\n",
    "import en_core_web_sm\n",
    "import spacy\n",
    "from spacy.tokenizer import Tokenizer\n",
    "import re\n",
    "from collections import Counter \n",
    "nlp = en_core_web_sm.load()\n",
    "tokenizer = Tokenizer(nlp.vocab)\n"
   ],
   "execution_count": 114,
   "outputs": []
  },
  {
   "cell_type": "code",
   "metadata": {
    "id": "MtkMXrzxl8su",
    "colab_type": "code",
    "colab": {}
   },
   "source": [
    "def get_lemmas(text):\n",
    "\n",
    "    lemmas = []\n",
    "    # STOP_WORDS = nlp.Defaults.stop_words.union([])\n",
    "\n",
    "    doc = nlp(text)\n",
    "\n",
    "    for token in doc: # ignore first two elements containing blank space and date\n",
    "        if ((token.is_stop == False) and (token.is_punct == False)) and (token.pos_ != 'PRON') \\\n",
    "                and (token.is_space == False) and (token.is_digit == False):\n",
    "            lemmas.append(token.lemma_.lower())\n",
    "\n",
    "    return lemmas"
   ],
   "execution_count": 115,
   "outputs": []
  },
  {
   "cell_type": "code",
   "metadata": {
    "id": "IBmdxNmLQsdo",
    "colab_type": "code",
    "colab": {}
   },
   "source": [
    "df = pd.read_csv('/content/drive/My Drive/datasets/cannabis_strains.csv')"
   ],
   "execution_count": 116,
   "outputs": []
  },
  {
   "cell_type": "code",
   "metadata": {
    "id": "CQl4gjcySDw1",
    "colab_type": "code",
    "colab": {
     "base_uri": "https://localhost:8080/",
     "height": 206
    },
    "outputId": "c3b35021-aa24-4b6c-f4be-f973400d9ccf"
   },
   "source": [
    "df.head()"
   ],
   "execution_count": 117,
   "outputs": [
    {
     "output_type": "execute_result",
     "data": {
      "text/html": [
       "<div>\n",
       "<style scoped>\n",
       "    .dataframe tbody tr th:only-of-type {\n",
       "        vertical-align: middle;\n",
       "    }\n",
       "\n",
       "    .dataframe tbody tr th {\n",
       "        vertical-align: top;\n",
       "    }\n",
       "\n",
       "    .dataframe thead th {\n",
       "        text-align: right;\n",
       "    }\n",
       "</style>\n",
       "<table border=\"1\" class=\"dataframe\">\n",
       "  <thead>\n",
       "    <tr style=\"text-align: right;\">\n",
       "      <th></th>\n",
       "      <th>strain</th>\n",
       "      <th>race</th>\n",
       "      <th>flavors</th>\n",
       "      <th>positive</th>\n",
       "      <th>negative</th>\n",
       "      <th>medical</th>\n",
       "      <th>Type</th>\n",
       "      <th>Rating</th>\n",
       "      <th>Description</th>\n",
       "    </tr>\n",
       "  </thead>\n",
       "  <tbody>\n",
       "    <tr>\n",
       "      <th>0</th>\n",
       "      <td>Afpak</td>\n",
       "      <td>hybrid</td>\n",
       "      <td>['Earthy', 'Chemical', 'Pine']</td>\n",
       "      <td>['Relaxed', 'Hungry', 'Happy', 'Sleepy']</td>\n",
       "      <td>['Dizzy']</td>\n",
       "      <td>['Depression', 'Insomnia', 'Pain', 'Stress', '...</td>\n",
       "      <td>hybrid</td>\n",
       "      <td>4.2</td>\n",
       "      <td>Afpak, named for its direct Afghani and Pakist...</td>\n",
       "    </tr>\n",
       "    <tr>\n",
       "      <th>1</th>\n",
       "      <td>African</td>\n",
       "      <td>sativa</td>\n",
       "      <td>['Spicy/Herbal', 'Pungent', 'Earthy']</td>\n",
       "      <td>['Euphoric', 'Happy', 'Creative', 'Energetic',...</td>\n",
       "      <td>['Dry Mouth']</td>\n",
       "      <td>['Depression', 'Pain', 'Stress', 'Lack of Appe...</td>\n",
       "      <td>sativa</td>\n",
       "      <td>3.9</td>\n",
       "      <td>African refers to the indigenous varieties of ...</td>\n",
       "    </tr>\n",
       "    <tr>\n",
       "      <th>2</th>\n",
       "      <td>Afternoon Delight</td>\n",
       "      <td>hybrid</td>\n",
       "      <td>['Pepper', 'Flowery', 'Pine']</td>\n",
       "      <td>['Relaxed', 'Hungry', 'Euphoric', 'Uplifted', ...</td>\n",
       "      <td>['Dizzy', 'Dry Mouth', 'Paranoid']</td>\n",
       "      <td>['Depression', 'Insomnia', 'Pain', 'Stress', '...</td>\n",
       "      <td>hybrid</td>\n",
       "      <td>4.8</td>\n",
       "      <td>Afternoon Delight, created by Colorado Seed In...</td>\n",
       "    </tr>\n",
       "    <tr>\n",
       "      <th>3</th>\n",
       "      <td>Afwreck</td>\n",
       "      <td>hybrid</td>\n",
       "      <td>['Pine', 'Earthy', 'Flowery']</td>\n",
       "      <td>['Relaxed', 'Happy', 'Creative', 'Uplifted', '...</td>\n",
       "      <td>['Dizzy', 'Dry Mouth', 'Paranoid', 'Dry Eyes']</td>\n",
       "      <td>['Pain', 'Stress', 'Headache', 'Fatigue', 'Hea...</td>\n",
       "      <td>hybrid</td>\n",
       "      <td>4.2</td>\n",
       "      <td>Afwreck is a hybrid cross of Afghani and Train...</td>\n",
       "    </tr>\n",
       "    <tr>\n",
       "      <th>4</th>\n",
       "      <td>Agent Orange</td>\n",
       "      <td>hybrid</td>\n",
       "      <td>['Citrus', 'Orange', 'Sweet']</td>\n",
       "      <td>['Relaxed', 'Euphoric', 'Happy', 'Energetic', ...</td>\n",
       "      <td>['Dizzy', 'Dry Mouth', 'Paranoid', 'Dry Eyes']</td>\n",
       "      <td>['Depression', 'Pain', 'Stress', 'Nausea', 'He...</td>\n",
       "      <td>hybrid</td>\n",
       "      <td>4.2</td>\n",
       "      <td>Don’t let the name scare you! The only herbici...</td>\n",
       "    </tr>\n",
       "  </tbody>\n",
       "</table>\n",
       "</div>"
      ],
      "text/plain": [
       "              strain  ...                                        Description\n",
       "0              Afpak  ...  Afpak, named for its direct Afghani and Pakist...\n",
       "1            African  ...  African refers to the indigenous varieties of ...\n",
       "2  Afternoon Delight  ...  Afternoon Delight, created by Colorado Seed In...\n",
       "3            Afwreck  ...  Afwreck is a hybrid cross of Afghani and Train...\n",
       "4       Agent Orange  ...  Don’t let the name scare you! The only herbici...\n",
       "\n",
       "[5 rows x 9 columns]"
      ]
     },
     "metadata": {
      "tags": []
     },
     "execution_count": 117
    }
   ]
  },
  {
   "cell_type": "code",
   "metadata": {
    "id": "k0hI5T4nWCLR",
    "colab_type": "code",
    "colab": {
     "base_uri": "https://localhost:8080/",
     "height": 35
    },
    "outputId": "45a23cf9-6517-415f-bc6f-b8c34cd47481"
   },
   "source": [
    "df['Description'][1]"
   ],
   "execution_count": 118,
   "outputs": [
    {
     "output_type": "execute_result",
     "data": {
      "text/plain": [
       "\"African refers to\\xa0the indigenous varieties of cannabis (or\\xa0landraces) that grow natively in this region of the world. Because of this region's latitude and climate, these native landrace strains tend to be\\xa0sativa\\xa0in structure and effect.\""
      ]
     },
     "metadata": {
      "tags": []
     },
     "execution_count": 118
    }
   ]
  },
  {
   "cell_type": "code",
   "metadata": {
    "id": "GymoTT9sYN5a",
    "colab_type": "code",
    "colab": {
     "base_uri": "https://localhost:8080/",
     "height": 35
    },
    "outputId": "9b44c74b-55f6-4b8a-e32e-7c984d7e4692"
   },
   "source": [
    "df['medical'][0]"
   ],
   "execution_count": 119,
   "outputs": [
    {
     "output_type": "execute_result",
     "data": {
      "text/plain": [
       "\"['Depression', 'Insomnia', 'Pain', 'Stress', 'Lack of Appetite']\""
      ]
     },
     "metadata": {
      "tags": []
     },
     "execution_count": 119
    }
   ]
  },
  {
   "cell_type": "code",
   "metadata": {
    "id": "uTChkL0cZF_r",
    "colab_type": "code",
    "colab": {}
   },
   "source": [
    "df['combined_text'] = df['positive'] + df['medical']"
   ],
   "execution_count": 120,
   "outputs": []
  },
  {
   "cell_type": "code",
   "metadata": {
    "id": "du6EDLfdZYJ9",
    "colab_type": "code",
    "colab": {
     "base_uri": "https://localhost:8080/",
     "height": 35
    },
    "outputId": "86c362b4-9e2d-4185-b98a-4439144198ac"
   },
   "source": [
    "df['combined_text'][0]"
   ],
   "execution_count": 121,
   "outputs": [
    {
     "output_type": "execute_result",
     "data": {
      "text/plain": [
       "\"['Relaxed', 'Hungry', 'Happy', 'Sleepy']['Depression', 'Insomnia', 'Pain', 'Stress', 'Lack of Appetite']\""
      ]
     },
     "metadata": {
      "tags": []
     },
     "execution_count": 121
    }
   ]
  },
  {
   "cell_type": "code",
   "metadata": {
    "id": "QpChaNMYbkmf",
    "colab_type": "code",
    "colab": {}
   },
   "source": [
    "df['combined_text'] = df['combined_text'].str.replace(\"'\", \"\")\n",
    "df['combined_text'] = df['combined_text'].str.replace('\\]\\[', ', ')\n",
    "df['combined_text'] = df['combined_text'].str.replace('[', '')\n",
    "df['combined_text'] = df['combined_text'].str.replace(']', '')"
   ],
   "execution_count": 122,
   "outputs": []
  },
  {
   "cell_type": "code",
   "metadata": {
    "id": "7G7psXvdd_rF",
    "colab_type": "code",
    "colab": {
     "base_uri": "https://localhost:8080/",
     "height": 35
    },
    "outputId": "b294982b-7c0c-4a91-b3cd-1c180e257452"
   },
   "source": [
    "df['combined_text'][0]"
   ],
   "execution_count": 123,
   "outputs": [
    {
     "output_type": "execute_result",
     "data": {
      "text/plain": [
       "'Relaxed, Hungry, Happy, Sleepy, Depression, Insomnia, Pain, Stress, Lack of Appetite'"
      ]
     },
     "metadata": {
      "tags": []
     },
     "execution_count": 123
    }
   ]
  },
  {
   "cell_type": "code",
   "metadata": {
    "id": "gHK1PknSf_5Q",
    "colab_type": "code",
    "colab": {}
   },
   "source": [
    "tokens = []\n",
    "\n",
    "for doc in tokenizer.pipe(df['combined_text'], batch_size=500):\n",
    "    doc_tokens = [token.text for token in doc]\n",
    "    tokens.append(doc_tokens)\n",
    "\n",
    "df['tokens'] = tokens"
   ],
   "execution_count": 124,
   "outputs": []
  },
  {
   "cell_type": "code",
   "metadata": {
    "id": "CqaMSOHymv5q",
    "colab_type": "code",
    "colab": {
     "base_uri": "https://localhost:8080/",
     "height": 237
    },
    "outputId": "29c5c6b3-edb2-4b36-a2be-5ebc23943a0e"
   },
   "source": [
    "df['tokens']"
   ],
   "execution_count": 125,
   "outputs": [
    {
     "output_type": "execute_result",
     "data": {
      "text/plain": [
       "0       [Relaxed,, Hungry,, Happy,, Sleepy,, Depressio...\n",
       "1       [Euphoric,, Happy,, Creative,, Energetic,, Tal...\n",
       "2       [Relaxed,, Hungry,, Euphoric,, Uplifted,, Ting...\n",
       "3       [Relaxed,, Happy,, Creative,, Uplifted,, Sleep...\n",
       "4       [Relaxed,, Euphoric,, Happy,, Energetic,, Upli...\n",
       "                              ...                        \n",
       "1490    [Relaxed,, Creative,, Energetic,, Focused,, Gi...\n",
       "1491    [Relaxed,, Happy,, Energetic,, Uplifted,, Focu...\n",
       "1492    [Relaxed,, Happy,, Energetic,, Uplifted,, Focu...\n",
       "1493    [Relaxed,, Euphoric,, Happy,, Uplifted,, Sleep...\n",
       "1494    [Relaxed,, Hungry,, Happy,, Uplifted,, Giggly,...\n",
       "Name: tokens, Length: 1495, dtype: object"
      ]
     },
     "metadata": {
      "tags": []
     },
     "execution_count": 125
    }
   ]
  },
  {
   "cell_type": "code",
   "metadata": {
    "id": "o9sSP94CYHmP",
    "colab_type": "code",
    "colab": {}
   },
   "source": [
    "df['lemas'] = df['combined_text'].apply(get_lemmas)"
   ],
   "execution_count": 126,
   "outputs": []
  },
  {
   "cell_type": "code",
   "metadata": {
    "id": "JYinEvKcmLwx",
    "colab_type": "code",
    "colab": {
     "base_uri": "https://localhost:8080/",
     "height": 623
    },
    "outputId": "c9a63d15-3a07-442d-c389-6506d1a9ca31"
   },
   "source": [
    "from collections import Counter\n",
    "\n",
    "word_counts = Counter()\n",
    "\n",
    "df['lemas'].apply(lambda x: word_counts.update(x))\n",
    "\n",
    "word_counts.most_common(50)"
   ],
   "execution_count": 127,
   "outputs": [
    {
     "output_type": "execute_result",
     "data": {
      "text/plain": [
       "[('stress', 1317),\n",
       " ('happy', 1266),\n",
       " ('depression', 1209),\n",
       " ('pain', 1152),\n",
       " ('relaxed', 1147),\n",
       " ('euphoric', 1071),\n",
       " ('uplifted', 904),\n",
       " ('insomnia', 634),\n",
       " ('creative', 555),\n",
       " ('fatigue', 538),\n",
       " ('lack', 532),\n",
       " ('appetite', 532),\n",
       " ('headache', 474),\n",
       " ('energetic', 469),\n",
       " ('headaches', 428),\n",
       " ('sleepy', 395),\n",
       " ('focused', 360),\n",
       " ('nausea', 319),\n",
       " ('hungry', 303),\n",
       " ('inflammation', 280),\n",
       " ('muscle', 268),\n",
       " ('spasms', 268),\n",
       " ('giggly', 209),\n",
       " ('talkative', 163),\n",
       " ('eye', 134),\n",
       " ('pressure', 134),\n",
       " ('tingly', 129),\n",
       " ('cramps', 112),\n",
       " ('aroused', 92),\n",
       " ('spasticity', 28),\n",
       " ('seizures', 12),\n",
       " ('arouse', 12),\n",
       " ('focus', 2)]"
      ]
     },
     "metadata": {
      "tags": []
     },
     "execution_count": 127
    }
   ]
  },
  {
   "cell_type": "code",
   "metadata": {
    "id": "TvFo5RUKq8Jj",
    "colab_type": "code",
    "colab": {
     "base_uri": "https://localhost:8080/",
     "height": 237
    },
    "outputId": "3d564bc8-d933-4058-9caf-7d6f26638b08"
   },
   "source": [
    "df['lemas'][1]"
   ],
   "execution_count": 128,
   "outputs": [
    {
     "output_type": "execute_result",
     "data": {
      "text/plain": [
       "['euphoric',\n",
       " 'happy',\n",
       " 'creative',\n",
       " 'energetic',\n",
       " 'talkative',\n",
       " 'depression',\n",
       " 'pain',\n",
       " 'stress',\n",
       " 'lack',\n",
       " 'appetite',\n",
       " 'nausea',\n",
       " 'headache']"
      ]
     },
     "metadata": {
      "tags": []
     },
     "execution_count": 128
    }
   ]
  },
  {
   "cell_type": "code",
   "execution_count": null,
   "outputs": [],
   "source": [
    "df.to_csv(\"vectorizer_dataset.csv\", index=False)"
   ],
   "metadata": {
    "collapsed": false,
    "pycharm": {
     "name": "#%%\n"
    }
   }
  },
  {
   "cell_type": "code",
   "metadata": {
    "id": "7ohoODz6a0KE",
    "colab_type": "code",
    "colab": {}
   },
   "source": [
    "# Create our model"
   ],
   "execution_count": 129,
   "outputs": []
  },
  {
   "cell_type": "markdown",
   "metadata": {
    "id": "OrNVH3qVwXDn",
    "colab_type": "text"
   },
   "source": [
    "# Create our model"
   ]
  },
  {
   "cell_type": "code",
   "metadata": {
    "id": "ghZp_bADsRri",
    "colab_type": "code",
    "colab": {}
   },
   "source": [
    "from sklearn.feature_extraction.text import TfidfVectorizer\n",
    "from joblib import dump"
   ],
   "execution_count": 130,
   "outputs": []
  },
  {
   "cell_type": "code",
   "metadata": {
    "id": "zZMbtLtMxTrm",
    "colab_type": "code",
    "colab": {}
   },
   "source": [
    "tfidf = TfidfVectorizer(stop_words='english',\n",
    "                        tokenizer=get_lemmas)\n",
    "\n",
    "dtm = tfidf.fit_transform(df['combined_text'])\n",
    "dump(tfidf, 'vectorizer.joblib', compress=True)\n",
    "\n",
    "dtm = pd.DataFrame(dtm.todense(), columns=tfidf.get_feature_names())\n"
   ],
   "execution_count": 131,
   "outputs": []
  },
  {
   "cell_type": "code",
   "metadata": {
    "id": "8DutYQgQxn0c",
    "colab_type": "code",
    "colab": {
     "base_uri": "https://localhost:8080/",
     "height": 444
    },
    "outputId": "5f57b6e0-5593-4893-bba9-4d8e954ad6dc"
   },
   "source": [
    "dtm"
   ],
   "execution_count": 132,
   "outputs": [
    {
     "output_type": "execute_result",
     "data": {
      "text/html": [
       "<div>\n",
       "<style scoped>\n",
       "    .dataframe tbody tr th:only-of-type {\n",
       "        vertical-align: middle;\n",
       "    }\n",
       "\n",
       "    .dataframe tbody tr th {\n",
       "        vertical-align: top;\n",
       "    }\n",
       "\n",
       "    .dataframe thead th {\n",
       "        text-align: right;\n",
       "    }\n",
       "</style>\n",
       "<table border=\"1\" class=\"dataframe\">\n",
       "  <thead>\n",
       "    <tr style=\"text-align: right;\">\n",
       "      <th></th>\n",
       "      <th>appetite</th>\n",
       "      <th>arouse</th>\n",
       "      <th>aroused</th>\n",
       "      <th>cramp</th>\n",
       "      <th>creative</th>\n",
       "      <th>depression</th>\n",
       "      <th>energetic</th>\n",
       "      <th>euphoric</th>\n",
       "      <th>eye</th>\n",
       "      <th>fatigue</th>\n",
       "      <th>focus</th>\n",
       "      <th>focused</th>\n",
       "      <th>giggly</th>\n",
       "      <th>happy</th>\n",
       "      <th>headache</th>\n",
       "      <th>hungry</th>\n",
       "      <th>inflammation</th>\n",
       "      <th>insomnia</th>\n",
       "      <th>lack</th>\n",
       "      <th>muscle</th>\n",
       "      <th>nausea</th>\n",
       "      <th>pain</th>\n",
       "      <th>pressure</th>\n",
       "      <th>relaxed</th>\n",
       "      <th>seizure</th>\n",
       "      <th>sleepy</th>\n",
       "      <th>spasm</th>\n",
       "      <th>spasticity</th>\n",
       "      <th>stress</th>\n",
       "      <th>talkative</th>\n",
       "      <th>tingly</th>\n",
       "      <th>uplifted</th>\n",
       "    </tr>\n",
       "  </thead>\n",
       "  <tbody>\n",
       "    <tr>\n",
       "      <th>0</th>\n",
       "      <td>0.364114</td>\n",
       "      <td>0.0</td>\n",
       "      <td>0.0</td>\n",
       "      <td>0.000000</td>\n",
       "      <td>0.000000</td>\n",
       "      <td>0.217207</td>\n",
       "      <td>0.000000</td>\n",
       "      <td>0.000000</td>\n",
       "      <td>0.0</td>\n",
       "      <td>0.000000</td>\n",
       "      <td>0.0</td>\n",
       "      <td>0.000000</td>\n",
       "      <td>0.000000</td>\n",
       "      <td>0.208958</td>\n",
       "      <td>0.000000</td>\n",
       "      <td>0.464727</td>\n",
       "      <td>0.0</td>\n",
       "      <td>0.332738</td>\n",
       "      <td>0.364114</td>\n",
       "      <td>0.000000</td>\n",
       "      <td>0.000000</td>\n",
       "      <td>0.225853</td>\n",
       "      <td>0.0</td>\n",
       "      <td>0.226632</td>\n",
       "      <td>0.0</td>\n",
       "      <td>0.417352</td>\n",
       "      <td>0.000000</td>\n",
       "      <td>0.0</td>\n",
       "      <td>0.201887</td>\n",
       "      <td>0.000000</td>\n",
       "      <td>0.00000</td>\n",
       "      <td>0.000000</td>\n",
       "    </tr>\n",
       "    <tr>\n",
       "      <th>1</th>\n",
       "      <td>0.306880</td>\n",
       "      <td>0.0</td>\n",
       "      <td>0.0</td>\n",
       "      <td>0.000000</td>\n",
       "      <td>0.300500</td>\n",
       "      <td>0.183065</td>\n",
       "      <td>0.325877</td>\n",
       "      <td>0.201352</td>\n",
       "      <td>0.0</td>\n",
       "      <td>0.000000</td>\n",
       "      <td>0.0</td>\n",
       "      <td>0.000000</td>\n",
       "      <td>0.000000</td>\n",
       "      <td>0.176113</td>\n",
       "      <td>0.249763</td>\n",
       "      <td>0.000000</td>\n",
       "      <td>0.0</td>\n",
       "      <td>0.000000</td>\n",
       "      <td>0.306880</td>\n",
       "      <td>0.000000</td>\n",
       "      <td>0.383931</td>\n",
       "      <td>0.190352</td>\n",
       "      <td>0.0</td>\n",
       "      <td>0.000000</td>\n",
       "      <td>0.0</td>\n",
       "      <td>0.000000</td>\n",
       "      <td>0.000000</td>\n",
       "      <td>0.0</td>\n",
       "      <td>0.170153</td>\n",
       "      <td>0.484883</td>\n",
       "      <td>0.00000</td>\n",
       "      <td>0.000000</td>\n",
       "    </tr>\n",
       "    <tr>\n",
       "      <th>2</th>\n",
       "      <td>0.000000</td>\n",
       "      <td>0.0</td>\n",
       "      <td>0.0</td>\n",
       "      <td>0.519541</td>\n",
       "      <td>0.000000</td>\n",
       "      <td>0.175759</td>\n",
       "      <td>0.000000</td>\n",
       "      <td>0.193317</td>\n",
       "      <td>0.0</td>\n",
       "      <td>0.000000</td>\n",
       "      <td>0.0</td>\n",
       "      <td>0.000000</td>\n",
       "      <td>0.000000</td>\n",
       "      <td>0.000000</td>\n",
       "      <td>0.239796</td>\n",
       "      <td>0.376048</td>\n",
       "      <td>0.0</td>\n",
       "      <td>0.269245</td>\n",
       "      <td>0.000000</td>\n",
       "      <td>0.000000</td>\n",
       "      <td>0.000000</td>\n",
       "      <td>0.182756</td>\n",
       "      <td>0.0</td>\n",
       "      <td>0.183386</td>\n",
       "      <td>0.0</td>\n",
       "      <td>0.000000</td>\n",
       "      <td>0.000000</td>\n",
       "      <td>0.0</td>\n",
       "      <td>0.163363</td>\n",
       "      <td>0.000000</td>\n",
       "      <td>0.49922</td>\n",
       "      <td>0.217872</td>\n",
       "    </tr>\n",
       "    <tr>\n",
       "      <th>3</th>\n",
       "      <td>0.000000</td>\n",
       "      <td>0.0</td>\n",
       "      <td>0.0</td>\n",
       "      <td>0.000000</td>\n",
       "      <td>0.289515</td>\n",
       "      <td>0.000000</td>\n",
       "      <td>0.000000</td>\n",
       "      <td>0.000000</td>\n",
       "      <td>0.0</td>\n",
       "      <td>0.294033</td>\n",
       "      <td>0.0</td>\n",
       "      <td>0.000000</td>\n",
       "      <td>0.000000</td>\n",
       "      <td>0.169675</td>\n",
       "      <td>0.481266</td>\n",
       "      <td>0.000000</td>\n",
       "      <td>0.0</td>\n",
       "      <td>0.000000</td>\n",
       "      <td>0.000000</td>\n",
       "      <td>0.395157</td>\n",
       "      <td>0.000000</td>\n",
       "      <td>0.183393</td>\n",
       "      <td>0.0</td>\n",
       "      <td>0.184026</td>\n",
       "      <td>0.0</td>\n",
       "      <td>0.338892</td>\n",
       "      <td>0.395157</td>\n",
       "      <td>0.0</td>\n",
       "      <td>0.163933</td>\n",
       "      <td>0.000000</td>\n",
       "      <td>0.00000</td>\n",
       "      <td>0.218632</td>\n",
       "    </tr>\n",
       "    <tr>\n",
       "      <th>4</th>\n",
       "      <td>0.000000</td>\n",
       "      <td>0.0</td>\n",
       "      <td>0.0</td>\n",
       "      <td>0.000000</td>\n",
       "      <td>0.000000</td>\n",
       "      <td>0.209801</td>\n",
       "      <td>0.373472</td>\n",
       "      <td>0.230760</td>\n",
       "      <td>0.0</td>\n",
       "      <td>0.000000</td>\n",
       "      <td>0.0</td>\n",
       "      <td>0.000000</td>\n",
       "      <td>0.000000</td>\n",
       "      <td>0.201834</td>\n",
       "      <td>0.572483</td>\n",
       "      <td>0.000000</td>\n",
       "      <td>0.0</td>\n",
       "      <td>0.000000</td>\n",
       "      <td>0.000000</td>\n",
       "      <td>0.000000</td>\n",
       "      <td>0.440005</td>\n",
       "      <td>0.218153</td>\n",
       "      <td>0.0</td>\n",
       "      <td>0.218905</td>\n",
       "      <td>0.0</td>\n",
       "      <td>0.000000</td>\n",
       "      <td>0.000000</td>\n",
       "      <td>0.0</td>\n",
       "      <td>0.195004</td>\n",
       "      <td>0.000000</td>\n",
       "      <td>0.00000</td>\n",
       "      <td>0.260070</td>\n",
       "    </tr>\n",
       "    <tr>\n",
       "      <th>...</th>\n",
       "      <td>...</td>\n",
       "      <td>...</td>\n",
       "      <td>...</td>\n",
       "      <td>...</td>\n",
       "      <td>...</td>\n",
       "      <td>...</td>\n",
       "      <td>...</td>\n",
       "      <td>...</td>\n",
       "      <td>...</td>\n",
       "      <td>...</td>\n",
       "      <td>...</td>\n",
       "      <td>...</td>\n",
       "      <td>...</td>\n",
       "      <td>...</td>\n",
       "      <td>...</td>\n",
       "      <td>...</td>\n",
       "      <td>...</td>\n",
       "      <td>...</td>\n",
       "      <td>...</td>\n",
       "      <td>...</td>\n",
       "      <td>...</td>\n",
       "      <td>...</td>\n",
       "      <td>...</td>\n",
       "      <td>...</td>\n",
       "      <td>...</td>\n",
       "      <td>...</td>\n",
       "      <td>...</td>\n",
       "      <td>...</td>\n",
       "      <td>...</td>\n",
       "      <td>...</td>\n",
       "      <td>...</td>\n",
       "      <td>...</td>\n",
       "    </tr>\n",
       "    <tr>\n",
       "      <th>1490</th>\n",
       "      <td>0.000000</td>\n",
       "      <td>0.0</td>\n",
       "      <td>0.0</td>\n",
       "      <td>0.000000</td>\n",
       "      <td>0.316055</td>\n",
       "      <td>0.192541</td>\n",
       "      <td>0.342746</td>\n",
       "      <td>0.000000</td>\n",
       "      <td>0.0</td>\n",
       "      <td>0.000000</td>\n",
       "      <td>0.0</td>\n",
       "      <td>0.401832</td>\n",
       "      <td>0.470711</td>\n",
       "      <td>0.000000</td>\n",
       "      <td>0.000000</td>\n",
       "      <td>0.000000</td>\n",
       "      <td>0.0</td>\n",
       "      <td>0.294953</td>\n",
       "      <td>0.000000</td>\n",
       "      <td>0.000000</td>\n",
       "      <td>0.403806</td>\n",
       "      <td>0.200205</td>\n",
       "      <td>0.0</td>\n",
       "      <td>0.200896</td>\n",
       "      <td>0.0</td>\n",
       "      <td>0.000000</td>\n",
       "      <td>0.000000</td>\n",
       "      <td>0.0</td>\n",
       "      <td>0.178961</td>\n",
       "      <td>0.000000</td>\n",
       "      <td>0.00000</td>\n",
       "      <td>0.000000</td>\n",
       "    </tr>\n",
       "    <tr>\n",
       "      <th>1491</th>\n",
       "      <td>0.000000</td>\n",
       "      <td>0.0</td>\n",
       "      <td>0.0</td>\n",
       "      <td>0.595746</td>\n",
       "      <td>0.000000</td>\n",
       "      <td>0.201539</td>\n",
       "      <td>0.358765</td>\n",
       "      <td>0.000000</td>\n",
       "      <td>0.0</td>\n",
       "      <td>0.000000</td>\n",
       "      <td>0.0</td>\n",
       "      <td>0.420613</td>\n",
       "      <td>0.000000</td>\n",
       "      <td>0.193886</td>\n",
       "      <td>0.274969</td>\n",
       "      <td>0.000000</td>\n",
       "      <td>0.0</td>\n",
       "      <td>0.000000</td>\n",
       "      <td>0.000000</td>\n",
       "      <td>0.000000</td>\n",
       "      <td>0.000000</td>\n",
       "      <td>0.209562</td>\n",
       "      <td>0.0</td>\n",
       "      <td>0.210285</td>\n",
       "      <td>0.0</td>\n",
       "      <td>0.000000</td>\n",
       "      <td>0.000000</td>\n",
       "      <td>0.0</td>\n",
       "      <td>0.187325</td>\n",
       "      <td>0.000000</td>\n",
       "      <td>0.00000</td>\n",
       "      <td>0.249829</td>\n",
       "    </tr>\n",
       "    <tr>\n",
       "      <th>1492</th>\n",
       "      <td>0.329390</td>\n",
       "      <td>0.0</td>\n",
       "      <td>0.0</td>\n",
       "      <td>0.000000</td>\n",
       "      <td>0.000000</td>\n",
       "      <td>0.196493</td>\n",
       "      <td>0.349781</td>\n",
       "      <td>0.000000</td>\n",
       "      <td>0.0</td>\n",
       "      <td>0.000000</td>\n",
       "      <td>0.0</td>\n",
       "      <td>0.410080</td>\n",
       "      <td>0.000000</td>\n",
       "      <td>0.189031</td>\n",
       "      <td>0.268084</td>\n",
       "      <td>0.000000</td>\n",
       "      <td>0.0</td>\n",
       "      <td>0.000000</td>\n",
       "      <td>0.329390</td>\n",
       "      <td>0.000000</td>\n",
       "      <td>0.412094</td>\n",
       "      <td>0.204314</td>\n",
       "      <td>0.0</td>\n",
       "      <td>0.205019</td>\n",
       "      <td>0.0</td>\n",
       "      <td>0.000000</td>\n",
       "      <td>0.000000</td>\n",
       "      <td>0.0</td>\n",
       "      <td>0.182634</td>\n",
       "      <td>0.000000</td>\n",
       "      <td>0.00000</td>\n",
       "      <td>0.243573</td>\n",
       "    </tr>\n",
       "    <tr>\n",
       "      <th>1493</th>\n",
       "      <td>0.000000</td>\n",
       "      <td>0.0</td>\n",
       "      <td>0.0</td>\n",
       "      <td>0.000000</td>\n",
       "      <td>0.000000</td>\n",
       "      <td>0.223583</td>\n",
       "      <td>0.000000</td>\n",
       "      <td>0.245919</td>\n",
       "      <td>0.0</td>\n",
       "      <td>0.000000</td>\n",
       "      <td>0.0</td>\n",
       "      <td>0.000000</td>\n",
       "      <td>0.000000</td>\n",
       "      <td>0.215093</td>\n",
       "      <td>0.305044</td>\n",
       "      <td>0.000000</td>\n",
       "      <td>0.0</td>\n",
       "      <td>0.342506</td>\n",
       "      <td>0.000000</td>\n",
       "      <td>0.000000</td>\n",
       "      <td>0.468909</td>\n",
       "      <td>0.232483</td>\n",
       "      <td>0.0</td>\n",
       "      <td>0.233285</td>\n",
       "      <td>0.0</td>\n",
       "      <td>0.429604</td>\n",
       "      <td>0.000000</td>\n",
       "      <td>0.0</td>\n",
       "      <td>0.207814</td>\n",
       "      <td>0.000000</td>\n",
       "      <td>0.00000</td>\n",
       "      <td>0.277154</td>\n",
       "    </tr>\n",
       "    <tr>\n",
       "      <th>1494</th>\n",
       "      <td>0.258880</td>\n",
       "      <td>0.0</td>\n",
       "      <td>0.0</td>\n",
       "      <td>0.456495</td>\n",
       "      <td>0.000000</td>\n",
       "      <td>0.000000</td>\n",
       "      <td>0.000000</td>\n",
       "      <td>0.000000</td>\n",
       "      <td>0.0</td>\n",
       "      <td>0.000000</td>\n",
       "      <td>0.0</td>\n",
       "      <td>0.000000</td>\n",
       "      <td>0.377542</td>\n",
       "      <td>0.148567</td>\n",
       "      <td>0.000000</td>\n",
       "      <td>0.330415</td>\n",
       "      <td>0.0</td>\n",
       "      <td>0.236572</td>\n",
       "      <td>0.258880</td>\n",
       "      <td>0.345998</td>\n",
       "      <td>0.000000</td>\n",
       "      <td>0.160578</td>\n",
       "      <td>0.0</td>\n",
       "      <td>0.161132</td>\n",
       "      <td>0.0</td>\n",
       "      <td>0.000000</td>\n",
       "      <td>0.345998</td>\n",
       "      <td>0.0</td>\n",
       "      <td>0.000000</td>\n",
       "      <td>0.000000</td>\n",
       "      <td>0.00000</td>\n",
       "      <td>0.191433</td>\n",
       "    </tr>\n",
       "  </tbody>\n",
       "</table>\n",
       "<p>1495 rows × 32 columns</p>\n",
       "</div>"
      ],
      "text/plain": [
       "      appetite  arouse  aroused  ...  talkative   tingly  uplifted\n",
       "0     0.364114     0.0      0.0  ...   0.000000  0.00000  0.000000\n",
       "1     0.306880     0.0      0.0  ...   0.484883  0.00000  0.000000\n",
       "2     0.000000     0.0      0.0  ...   0.000000  0.49922  0.217872\n",
       "3     0.000000     0.0      0.0  ...   0.000000  0.00000  0.218632\n",
       "4     0.000000     0.0      0.0  ...   0.000000  0.00000  0.260070\n",
       "...        ...     ...      ...  ...        ...      ...       ...\n",
       "1490  0.000000     0.0      0.0  ...   0.000000  0.00000  0.000000\n",
       "1491  0.000000     0.0      0.0  ...   0.000000  0.00000  0.249829\n",
       "1492  0.329390     0.0      0.0  ...   0.000000  0.00000  0.243573\n",
       "1493  0.000000     0.0      0.0  ...   0.000000  0.00000  0.277154\n",
       "1494  0.258880     0.0      0.0  ...   0.000000  0.00000  0.191433\n",
       "\n",
       "[1495 rows x 32 columns]"
      ]
     },
     "metadata": {
      "tags": []
     },
     "execution_count": 132
    }
   ]
  },
  {
   "cell_type": "code",
   "metadata": {
    "id": "23Mk_A89x0zh",
    "colab_type": "code",
    "colab": {
     "base_uri": "https://localhost:8080/",
     "height": 35
    },
    "outputId": "ebb901ff-765a-42f0-d89d-0354a35774c2"
   },
   "source": [
    "df['medical'][3]"
   ],
   "execution_count": 133,
   "outputs": [
    {
     "output_type": "execute_result",
     "data": {
      "text/plain": [
       "\"['Pain', 'Stress', 'Headache', 'Fatigue', 'Headaches', 'Muscle Spasms']\""
      ]
     },
     "metadata": {
      "tags": []
     },
     "execution_count": 133
    }
   ]
  },
  {
   "cell_type": "code",
   "metadata": {
    "id": "eo1pQBiBylDE",
    "colab_type": "code",
    "colab": {
     "base_uri": "https://localhost:8080/",
     "height": 35
    },
    "outputId": "9987c69e-b085-41df-fd09-2d8d10bd64fe"
   },
   "source": [
    "from sklearn.neighbors import NearestNeighbors\n",
    "from joblib import dump\n",
    "\n",
    "model = NearestNeighbors(n_neighbors=10, algorithm='kd_tree')\n",
    "model.fit(dtm)\n",
    "dump(model, 'strain_recommender.joblib', compress=True)"
   ],
   "execution_count": 134,
   "outputs": [
    {
     "output_type": "execute_result",
     "data": {
      "text/plain": [
       "['strain_recommender.joblib']"
      ]
     },
     "metadata": {
      "tags": []
     },
     "execution_count": 134
    }
   ]
  },
  {
   "cell_type": "code",
   "metadata": {
    "id": "AEt9c1GezbTs",
    "colab_type": "code",
    "colab": {}
   },
   "source": [
    "def recommendations(text):\n",
    "    text_transformed = tfidf.transform(text)\n",
    "    results = model.kneighbors(text_transformed.todense())\n",
    "\n",
    "    return results"
   ],
   "execution_count": 135,
   "outputs": []
  },
  {
   "cell_type": "code",
   "metadata": {
    "id": "oVk5M11Jzf2l",
    "colab_type": "code",
    "colab": {
     "base_uri": "https://localhost:8080/",
     "height": 72
    },
    "outputId": "1af69eda-5d43-4e0c-a057-230a361bdc25"
   },
   "source": [
    "recommendations(['depression, happy, insomnia'])"
   ],
   "execution_count": 136,
   "outputs": [
    {
     "output_type": "execute_result",
     "data": {
      "text/plain": [
       "(array([[0.7872958 , 0.83436716, 0.87748526, 0.92903462, 0.94075118,\n",
       "         0.94757526, 0.94757526, 0.94757526, 0.95527452, 0.95834636]]),\n",
       " array([[1484, 1368,  716, 1132,  894, 1286,  100, 1215,  863, 1107]]))"
      ]
     },
     "metadata": {
      "tags": []
     },
     "execution_count": 136
    }
   ]
  },
  {
   "cell_type": "code",
   "metadata": {
    "id": "-J-dAVXBzvzP",
    "colab_type": "code",
    "colab": {
     "base_uri": "https://localhost:8080/",
     "height": 256
    },
    "outputId": "0574080f-09bf-4f06-9b14-1d4457e81e0b"
   },
   "source": [
    "df.iloc[1484]"
   ],
   "execution_count": 137,
   "outputs": [
    {
     "output_type": "execute_result",
     "data": {
      "text/plain": [
       "strain                                                     Wookies\n",
       "race                                                        hybrid\n",
       "flavors                                                  ['Minty']\n",
       "positive              ['Relaxed', 'Euphoric', 'Happy', 'Uplifted']\n",
       "negative                                                        []\n",
       "medical                       ['Depression', 'Insomnia', 'Stress']\n",
       "Type                                                        hybrid\n",
       "Rating                                                         4.8\n",
       "Description      Wookies (not to be confused with the strain “W...\n",
       "combined_text    Relaxed, Euphoric, Happy, Uplifted, Depression...\n",
       "tokens           [Relaxed,, Euphoric,, Happy,, Uplifted,, Depre...\n",
       "lemas            [relaxed, euphoric, happy, uplifted, depressio...\n",
       "Name: 1484, dtype: object"
      ]
     },
     "metadata": {
      "tags": []
     },
     "execution_count": 137
    }
   ]
  },
  {
   "cell_type": "markdown",
   "metadata": {
    "id": "fl-BXdA57ynM",
    "colab_type": "text"
   },
   "source": [
    "# Production model"
   ]
  },
  {
   "cell_type": "code",
   "metadata": {
    "id": "r03G5WUd_0oZ",
    "colab_type": "code",
    "colab": {}
   },
   "source": [
    "import psycopg2\n",
    "\n",
    "pg_conn = psycopg2.connect(\n",
    "    dbname=\"spkpknid\", user=\"spkpknid\",\n",
    "    password=\"hZo2oRpUZdu-GU42rkgr9q9MRVEZ_Hee\", host=\"ruby.db.elephantsql.com\"\n",
    ")\n",
    "pg_curs = pg_conn.cursor()"
   ],
   "execution_count": 138,
   "outputs": []
  },
  {
   "cell_type": "code",
   "metadata": {
    "id": "FH52br287MBj",
    "colab_type": "code",
    "colab": {}
   },
   "source": [
    "import en_core_web_sm\n",
    "nlp = en_core_web_sm.load()\n",
    "\n",
    "def get_lemmas(text):\n",
    "\n",
    "    lemmas = []\n",
    "    # STOP_WORDS = nlp.Defaults.stop_words.union([])\n",
    "\n",
    "    doc = nlp(text)\n",
    "\n",
    "    for token in doc: # ignore first two elements containing blank space and date\n",
    "        if ((token.is_stop == False) and (token.is_punct == False)) and (token.pos_ != 'PRON') \\\n",
    "                and (token.is_space == False) and (token.is_digit == False):\n",
    "            lemmas.append(token.lemma_.lower())\n",
    "\n",
    "    return lemmas"
   ],
   "execution_count": 139,
   "outputs": []
  },
  {
   "cell_type": "code",
   "metadata": {
    "id": "53hzb1YezzXi",
    "colab_type": "code",
    "colab": {}
   },
   "source": [
    "from sklearn.feature_extraction.text import TfidfVectorizer\n",
    "from joblib import load\n",
    "\n",
    "def modelservice(features, pg_curs):\n",
    "    tfidf = load('vectorizer.joblib')\n",
    "    text_transformed = tfidf.transform(features)\n",
    "\n",
    "    model = load('strain_recommender.joblib')\n",
    "    prediction = model.kneighbors(text_transformed.todense())\n",
    "\n",
    "    print(prediction)\n",
    "\n",
    "    prediction = tuple(prediction[1][0])\n",
    "\n",
    "    query = f'''SELECT * FROM strains WHERE index in {prediction} ORDER BY \"Rating\" DESC'''\n",
    "    pg_curs.execute(query)\n",
    "    result = pg_curs.fetchall()\n",
    "\n",
    "    return result"
   ],
   "execution_count": 140,
   "outputs": []
  },
  {
   "cell_type": "code",
   "metadata": {
    "id": "S0w-n69Q6Qd3",
    "colab_type": "code",
    "colab": {
     "base_uri": "https://localhost:8080/",
     "height": 54
    },
    "outputId": "1f77de57-b08a-4d87-b6c8-ed2828ba8c2b"
   },
   "source": [
    "test = modelservice(features=['depression, happiness, insomnia'], pg_curs=pg_curs)"
   ],
   "execution_count": 141,
   "outputs": [
    {
     "output_type": "stream",
     "text": [
      "(array([[0.88229355, 0.91978452, 0.95259214, 0.95463763, 0.99687318,\n",
      "        1.00655155, 1.01220119, 1.01220119, 1.01220119, 1.01858635]]), array([[1484, 1368, 1213,  716, 1132,  894,  100, 1215, 1286,  863]]))\n"
     ],
     "name": "stdout"
    }
   ]
  },
  {
   "cell_type": "code",
   "metadata": {
    "id": "zd4_SibT3qeX",
    "colab_type": "code",
    "colab": {
     "base_uri": "https://localhost:8080/",
     "height": 1000
    },
    "outputId": "2e705c67-aa56-418b-f8c4-e6f9f21b897e"
   },
   "source": [
    "test"
   ],
   "execution_count": 142,
   "outputs": [
    {
     "output_type": "execute_result",
     "data": {
      "text/plain": [
       "[(716,\n",
       "  'Ice Princess',\n",
       "  'hybrid',\n",
       "  \"['Tropical']\",\n",
       "  \"['Relaxed', 'Euphoric', 'Happy']\",\n",
       "  \"['Dry Mouth', 'Dry Eyes']\",\n",
       "  \"['Depression', 'Insomnia', 'Pain', 'Stress', 'Fatigue']\",\n",
       "  'hybrid',\n",
       "  5.0,\n",
       "  'Ice Princess by Brothers Grimm Seeds is a hybrid cross between a Cinderella 99 mother and a White Widow father. This combination creates dense, resinous pine tree shaped colas that reek of skunk, spice, and tropical fruit. It fares best indoors and is known to yield larger crops with the addition of extra light. Ice Princess offers consumers cerebral effects similar to Cinderella 99, but with heavier physical potency. \\xa0'),\n",
       " (1484,\n",
       "  'Wookies',\n",
       "  'hybrid',\n",
       "  \"['Minty']\",\n",
       "  \"['Relaxed', 'Euphoric', 'Happy', 'Uplifted']\",\n",
       "  '[]',\n",
       "  \"['Depression', 'Insomnia', 'Stress']\",\n",
       "  'hybrid',\n",
       "  4.8,\n",
       "  'Wookies (not to be confused with the strain “Wookie” or the enormous, sentient space-bears of Star Wars) is an indica-dominant cross of White 91 (The White x Chemdawg 91) and Girl Scout Cookies. Known for its loud terpene profile and high-THC percentage, Wookies grows the Cookies genetic line while standing firmly on its own in terms of effects. It combines the generous trichome production of White 91 with the minty, musky aroma of the GSC “Forum Cut” to create a strain that is potent and pleasing to the senses. \\xa0 \\xa0'),\n",
       " (1368,\n",
       "  'Thelonious Skunk',\n",
       "  'hybrid',\n",
       "  \"['Skunk', 'Citrus', 'Pungent']\",\n",
       "  \"['Relaxed', 'Euphoric', 'Happy', 'Uplifted']\",\n",
       "  \"['Dry Eyes']\",\n",
       "  \"['Depression', 'Insomnia', 'Pain', 'Stress']\",\n",
       "  'hybrid',\n",
       "  4.8,\n",
       "  'Thelonious Skunk, named for Colorado Seed Inc.’s favorite jazz musician, Thelonious Monk, is the funky lovechild of Island Sweet Skunk and Nina Limone. This upbeat, bebopping combo exhibits tropical flavors like citrus trees and sweet earth, mixed with a distinct skunky undertone. Its bouquet of diverse smells aligns well with its energizing effects, which wrap the consumer in a pleasant, upbeat haze that helps combat depression and lethargy. \\xa0\\xa0'),\n",
       " (863,\n",
       "  'Locomotion',\n",
       "  'indica',\n",
       "  \"['Earthy', 'Pungent', 'Sweet']\",\n",
       "  \"['Relaxed', 'Euphoric', 'Happy', 'Uplifted']\",\n",
       "  \"['Dry Mouth']\",\n",
       "  \"['Depression', 'Insomnia', 'Pain', 'Stress', 'Nausea']\",\n",
       "  'indica',\n",
       "  4.6,\n",
       "  'Locomotion is a 70/30 indica-dominant strain by Heroes of the Farm. A cross between Blue Diesel and Timewreck, this strain delivers a dreamy cerebral high while soothing the body. Locomotion’s sour-smelling buds bloom with deep hues of silvery purple. Novices take caution with this potent indica: a little bit goes a long way.'),\n",
       " (1286,\n",
       "  'Super Cheese',\n",
       "  'indica',\n",
       "  \"['Cheese', 'Blue Cheese', 'Earthy']\",\n",
       "  \"['Relaxed', 'Euphoric', 'Happy', 'Sleepy']\",\n",
       "  \"['Dizzy', 'Dry Mouth']\",\n",
       "  \"['Depression', 'Insomnia', 'Pain', 'Stress', 'Headaches']\",\n",
       "  'indica',\n",
       "  4.5,\n",
       "  'Super Cheese, bred by Positronics, is a throwback to the old school strains that filled the coffee shops of Amsterdam in the late 1980s. Super Cheese was created through inbreeding, crossing Cheese genetics with another select phenotype believed to be Exodus Cheese. The aroma of this indica-dominant hybrid is a mix of skunky musk and a pungent blue cheese funk that has\\xa0become synonymous with Cheese varieties. The flavor is a strong, smooth blend of bittersweet herbs and cream, like an earthy buttermilk.'),\n",
       " (1215,\n",
       "  'Shiatsu Kush',\n",
       "  'hybrid',\n",
       "  \"['Earthy', 'Spicy/Herbal', 'Pungent']\",\n",
       "  \"['Relaxed', 'Euphoric', 'Happy', 'Sleepy']\",\n",
       "  \"['Dizzy', 'Dry Mouth', 'Paranoid', 'Dry Eyes', 'Anxious']\",\n",
       "  \"['Depression', 'Insomnia', 'Pain', 'Stress', 'Headaches']\",\n",
       "  'hybrid',\n",
       "  4.4,\n",
       "  'From the island of Amami Oshima comes Shiatsu Kush, a powerful hybrid strain brought from Japan by BC Bud Depot. Bred in secret for potent relief of pain, tension, and stress, Shiatsu Kush has a sterling reputation in Japan’s cannabis underground. With a fusion of pine, vanilla, and cedar, Shiatsu Kush induces a heavy relaxation that calms the mind and body. Growers hoping to cultivate this award-winning hybrid should allow a 50 to 56 day flowering time.'),\n",
       " (1213,\n",
       "  'Shark Bite',\n",
       "  'hybrid',\n",
       "  \"['Pungent', 'Sweet', 'Tropical']\",\n",
       "  \"['Relaxed', 'Euphoric', 'Energetic', 'Uplifted']\",\n",
       "  \"['Anxious']\",\n",
       "  \"['Depression', 'Insomnia', 'Stress']\",\n",
       "  'hybrid',\n",
       "  4.1,\n",
       "  'A hybrid from Archive Seed Bank, Shark Bite combines Great White Shark with a Face Off OG backcross into one fast-finishing, easy-to-grow strain. Its fat, sticky colas emit a delicious candied fruit aroma with a hint of skunky OG flavor for good measure. Considered a 50/50 hybrid, Shark Bite typically comes in between 18% and 24% THC and makes excellent concentrates.'),\n",
       " (100,\n",
       "  'Big Bang',\n",
       "  'indica',\n",
       "  \"['Flowery', 'Berry', 'Pungent']\",\n",
       "  \"['Relaxed', 'Euphoric', 'Happy', 'Sleepy']\",\n",
       "  \"['Dizzy', 'Dry Mouth', 'Paranoid', 'Dry Eyes', 'Anxious']\",\n",
       "  \"['Depression', 'Insomnia', 'Pain', 'Stress', 'Headaches']\",\n",
       "  'indica',\n",
       "  4.1,\n",
       "  'Big Bang sprang into existence when Green House Seeds combined Skunk, Northern Lights, and El Niño into one indica that packs the power of the cosmos. Sweet apple with accents of rose and violet bring a rich aromatic experience to this 80% indica, whose sedating effects run most popularly with patients treating pain and sleeplessness. Relief expands and spreads throughout the body, calming stress both physical and mental. Big Bang bursts into flowering, finishing in 8 to 9 weeks indoors or around the end of September in outdoor grows.'),\n",
       " (894,\n",
       "  'Marcosus Marshmellow',\n",
       "  'hybrid',\n",
       "  \"['Minty', 'Berry', 'Grape']\",\n",
       "  \"['Euphoric', 'Happy', 'Creative', 'Energetic', 'Uplifted']\",\n",
       "  '[]',\n",
       "  \"['Depression', 'Insomnia', 'Stress']\",\n",
       "  'hybrid',\n",
       "  3.9,\n",
       "  'Marcosus Marshmellow is a Girl Scout Cookies phenotype grown by Remedy Cultivation. Named for its cloudy white trichomes and sticky buds, this strain stinks of sweet, minty terpenes with an enjoyable earthy undertone. Marcosus Marhmellow imbues consumers with a happy, relaxing buzz. The strain’s pleasant euphoria can help improve mood, stimulate appetite, and assist with restlessness. \\xa0'),\n",
       " (1132,\n",
       "  'Purple Tonic',\n",
       "  'indica',\n",
       "  \"['Blueberry', 'Nutty', 'Tree Fruit']\",\n",
       "  \"['Relaxed', 'Euphoric', 'Happy', 'Energetic', 'Uplifted']\",\n",
       "  \"['Dry Mouth', 'Dry Eyes']\",\n",
       "  \"['Depression', 'Insomnia', 'Pain', 'Stress']\",\n",
       "  'indica',\n",
       "  3.2,\n",
       "  None)]"
      ]
     },
     "metadata": {
      "tags": []
     },
     "execution_count": 142
    }
   ]
  },
  {
   "cell_type": "code",
   "metadata": {
    "id": "oqv-xK7p6bUt",
    "colab_type": "code",
    "colab": {}
   },
   "source": [
    "pg_curs.close()\n",
    "pg_conn.close()"
   ],
   "execution_count": 143,
   "outputs": []
  },
  {
   "cell_type": "code",
   "metadata": {
    "id": "1nvLa6yZSg-u",
    "colab_type": "code",
    "colab": {}
   },
   "source": [
    ""
   ],
   "execution_count": 143,
   "outputs": []
  }
 ]
}