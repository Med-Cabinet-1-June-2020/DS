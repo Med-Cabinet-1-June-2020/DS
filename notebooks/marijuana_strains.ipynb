{
  "nbformat": 4,
  "nbformat_minor": 0,
  "metadata": {
    "colab": {
      "name": "marijuana strains.ipynb",
      "provenance": [],
      "collapsed_sections": []
    },
    "kernelspec": {
      "name": "python3",
      "display_name": "Python 3"
    }
  },
  "cells": [
    {
      "cell_type": "code",
      "metadata": {
        "id": "9DjOf9OPUWX3",
        "colab_type": "code",
        "colab": {}
      },
      "source": [
        "import pandas as pd\n",
        "import numpy as np\n",
        "from pandas.io.json import json_normalize "
      ],
      "execution_count": 220,
      "outputs": []
    },
    {
      "cell_type": "code",
      "metadata": {
        "id": "WungCvDpUb8d",
        "colab_type": "code",
        "colab": {}
      },
      "source": [
        "df_with_desc = pd.read_csv(\"cannabis.csv\")"
      ],
      "execution_count": 221,
      "outputs": []
    },
    {
      "cell_type": "code",
      "metadata": {
        "id": "43dRiRH2WAMe",
        "colab_type": "code",
        "colab": {
          "base_uri": "https://localhost:8080/",
          "height": 206
        },
        "outputId": "f4f49661-6ae2-4a98-dd51-3e2ee3f1627f"
      },
      "source": [
        "df_with_desc.head()"
      ],
      "execution_count": 222,
      "outputs": [
        {
          "output_type": "execute_result",
          "data": {
            "text/html": [
              "<div>\n",
              "<style scoped>\n",
              "    .dataframe tbody tr th:only-of-type {\n",
              "        vertical-align: middle;\n",
              "    }\n",
              "\n",
              "    .dataframe tbody tr th {\n",
              "        vertical-align: top;\n",
              "    }\n",
              "\n",
              "    .dataframe thead th {\n",
              "        text-align: right;\n",
              "    }\n",
              "</style>\n",
              "<table border=\"1\" class=\"dataframe\">\n",
              "  <thead>\n",
              "    <tr style=\"text-align: right;\">\n",
              "      <th></th>\n",
              "      <th>Strain</th>\n",
              "      <th>Type</th>\n",
              "      <th>Rating</th>\n",
              "      <th>Effects</th>\n",
              "      <th>Flavor</th>\n",
              "      <th>Description</th>\n",
              "    </tr>\n",
              "  </thead>\n",
              "  <tbody>\n",
              "    <tr>\n",
              "      <th>0</th>\n",
              "      <td>100-Og</td>\n",
              "      <td>hybrid</td>\n",
              "      <td>4.0</td>\n",
              "      <td>Creative,Energetic,Tingly,Euphoric,Relaxed</td>\n",
              "      <td>Earthy,Sweet,Citrus</td>\n",
              "      <td>$100 OG is a 50/50 hybrid strain that packs a ...</td>\n",
              "    </tr>\n",
              "    <tr>\n",
              "      <th>1</th>\n",
              "      <td>98-White-Widow</td>\n",
              "      <td>hybrid</td>\n",
              "      <td>4.7</td>\n",
              "      <td>Relaxed,Aroused,Creative,Happy,Energetic</td>\n",
              "      <td>Flowery,Violet,Diesel</td>\n",
              "      <td>The ‘98 Aloha White Widow is an especially pot...</td>\n",
              "    </tr>\n",
              "    <tr>\n",
              "      <th>2</th>\n",
              "      <td>1024</td>\n",
              "      <td>sativa</td>\n",
              "      <td>4.4</td>\n",
              "      <td>Uplifted,Happy,Relaxed,Energetic,Creative</td>\n",
              "      <td>Spicy/Herbal,Sage,Woody</td>\n",
              "      <td>1024 is a sativa-dominant hybrid bred in Spain...</td>\n",
              "    </tr>\n",
              "    <tr>\n",
              "      <th>3</th>\n",
              "      <td>13-Dawgs</td>\n",
              "      <td>hybrid</td>\n",
              "      <td>4.2</td>\n",
              "      <td>Tingly,Creative,Hungry,Relaxed,Uplifted</td>\n",
              "      <td>Apricot,Citrus,Grapefruit</td>\n",
              "      <td>13 Dawgs is a hybrid of G13 and Chemdawg genet...</td>\n",
              "    </tr>\n",
              "    <tr>\n",
              "      <th>4</th>\n",
              "      <td>24K-Gold</td>\n",
              "      <td>hybrid</td>\n",
              "      <td>4.6</td>\n",
              "      <td>Happy,Relaxed,Euphoric,Uplifted,Talkative</td>\n",
              "      <td>Citrus,Earthy,Orange</td>\n",
              "      <td>Also known as Kosher Tangie, 24k Gold is a 60%...</td>\n",
              "    </tr>\n",
              "  </tbody>\n",
              "</table>\n",
              "</div>"
            ],
            "text/plain": [
              "           Strain    Type  Rating                                     Effects  \\\n",
              "0          100-Og  hybrid     4.0  Creative,Energetic,Tingly,Euphoric,Relaxed   \n",
              "1  98-White-Widow  hybrid     4.7    Relaxed,Aroused,Creative,Happy,Energetic   \n",
              "2            1024  sativa     4.4   Uplifted,Happy,Relaxed,Energetic,Creative   \n",
              "3        13-Dawgs  hybrid     4.2     Tingly,Creative,Hungry,Relaxed,Uplifted   \n",
              "4        24K-Gold  hybrid     4.6   Happy,Relaxed,Euphoric,Uplifted,Talkative   \n",
              "\n",
              "                      Flavor  \\\n",
              "0        Earthy,Sweet,Citrus   \n",
              "1      Flowery,Violet,Diesel   \n",
              "2    Spicy/Herbal,Sage,Woody   \n",
              "3  Apricot,Citrus,Grapefruit   \n",
              "4       Citrus,Earthy,Orange   \n",
              "\n",
              "                                         Description  \n",
              "0  $100 OG is a 50/50 hybrid strain that packs a ...  \n",
              "1  The ‘98 Aloha White Widow is an especially pot...  \n",
              "2  1024 is a sativa-dominant hybrid bred in Spain...  \n",
              "3  13 Dawgs is a hybrid of G13 and Chemdawg genet...  \n",
              "4  Also known as Kosher Tangie, 24k Gold is a 60%...  "
            ]
          },
          "metadata": {
            "tags": []
          },
          "execution_count": 222
        }
      ]
    },
    {
      "cell_type": "code",
      "metadata": {
        "id": "UTacOmFZ0V0k",
        "colab_type": "code",
        "colab": {}
      },
      "source": [
        "df_with_desc = df_with_desc.drop(['Effects', 'Flavor'], axis=1)"
      ],
      "execution_count": 223,
      "outputs": []
    },
    {
      "cell_type": "code",
      "metadata": {
        "id": "pdpUFpHq1dHp",
        "colab_type": "code",
        "colab": {}
      },
      "source": [
        "df_with_desc['Strain'] = df_with_desc['Strain'].str.replace('-', ' ')"
      ],
      "execution_count": 224,
      "outputs": []
    },
    {
      "cell_type": "code",
      "metadata": {
        "id": "3u_9BxuY1owf",
        "colab_type": "code",
        "colab": {
          "base_uri": "https://localhost:8080/",
          "height": 206
        },
        "outputId": "d66f7167-aa37-4f24-d44b-603990e804d2"
      },
      "source": [
        "df_with_desc.head()"
      ],
      "execution_count": 225,
      "outputs": [
        {
          "output_type": "execute_result",
          "data": {
            "text/html": [
              "<div>\n",
              "<style scoped>\n",
              "    .dataframe tbody tr th:only-of-type {\n",
              "        vertical-align: middle;\n",
              "    }\n",
              "\n",
              "    .dataframe tbody tr th {\n",
              "        vertical-align: top;\n",
              "    }\n",
              "\n",
              "    .dataframe thead th {\n",
              "        text-align: right;\n",
              "    }\n",
              "</style>\n",
              "<table border=\"1\" class=\"dataframe\">\n",
              "  <thead>\n",
              "    <tr style=\"text-align: right;\">\n",
              "      <th></th>\n",
              "      <th>Strain</th>\n",
              "      <th>Type</th>\n",
              "      <th>Rating</th>\n",
              "      <th>Description</th>\n",
              "    </tr>\n",
              "  </thead>\n",
              "  <tbody>\n",
              "    <tr>\n",
              "      <th>0</th>\n",
              "      <td>100 Og</td>\n",
              "      <td>hybrid</td>\n",
              "      <td>4.0</td>\n",
              "      <td>$100 OG is a 50/50 hybrid strain that packs a ...</td>\n",
              "    </tr>\n",
              "    <tr>\n",
              "      <th>1</th>\n",
              "      <td>98 White Widow</td>\n",
              "      <td>hybrid</td>\n",
              "      <td>4.7</td>\n",
              "      <td>The ‘98 Aloha White Widow is an especially pot...</td>\n",
              "    </tr>\n",
              "    <tr>\n",
              "      <th>2</th>\n",
              "      <td>1024</td>\n",
              "      <td>sativa</td>\n",
              "      <td>4.4</td>\n",
              "      <td>1024 is a sativa-dominant hybrid bred in Spain...</td>\n",
              "    </tr>\n",
              "    <tr>\n",
              "      <th>3</th>\n",
              "      <td>13 Dawgs</td>\n",
              "      <td>hybrid</td>\n",
              "      <td>4.2</td>\n",
              "      <td>13 Dawgs is a hybrid of G13 and Chemdawg genet...</td>\n",
              "    </tr>\n",
              "    <tr>\n",
              "      <th>4</th>\n",
              "      <td>24K Gold</td>\n",
              "      <td>hybrid</td>\n",
              "      <td>4.6</td>\n",
              "      <td>Also known as Kosher Tangie, 24k Gold is a 60%...</td>\n",
              "    </tr>\n",
              "  </tbody>\n",
              "</table>\n",
              "</div>"
            ],
            "text/plain": [
              "           Strain    Type  Rating  \\\n",
              "0          100 Og  hybrid     4.0   \n",
              "1  98 White Widow  hybrid     4.7   \n",
              "2            1024  sativa     4.4   \n",
              "3        13 Dawgs  hybrid     4.2   \n",
              "4        24K Gold  hybrid     4.6   \n",
              "\n",
              "                                         Description  \n",
              "0  $100 OG is a 50/50 hybrid strain that packs a ...  \n",
              "1  The ‘98 Aloha White Widow is an especially pot...  \n",
              "2  1024 is a sativa-dominant hybrid bred in Spain...  \n",
              "3  13 Dawgs is a hybrid of G13 and Chemdawg genet...  \n",
              "4  Also known as Kosher Tangie, 24k Gold is a 60%...  "
            ]
          },
          "metadata": {
            "tags": []
          },
          "execution_count": 225
        }
      ]
    },
    {
      "cell_type": "code",
      "metadata": {
        "id": "GYk61dDz0Jcb",
        "colab_type": "code",
        "colab": {
          "base_uri": "https://localhost:8080/",
          "height": 35
        },
        "outputId": "9b84e492-6c7e-4dc7-c47c-c9e90d458cf6"
      },
      "source": [
        "df_with_desc.shape"
      ],
      "execution_count": 226,
      "outputs": [
        {
          "output_type": "execute_result",
          "data": {
            "text/plain": [
              "(2351, 4)"
            ]
          },
          "metadata": {
            "tags": []
          },
          "execution_count": 226
        }
      ]
    },
    {
      "cell_type": "code",
      "metadata": {
        "id": "uD_LuC9mpCyW",
        "colab_type": "code",
        "colab": {}
      },
      "source": [
        "df = pd.read_json('mj_strains.json', orient='index')\n",
        "df = df.reset_index().set_index('id')\n",
        "df = df.rename(columns={'index': 'strain'})\n",
        "df = df.reset_index(drop=True)"
      ],
      "execution_count": 227,
      "outputs": []
    },
    {
      "cell_type": "code",
      "metadata": {
        "id": "_-YeskznqbIh",
        "colab_type": "code",
        "colab": {
          "base_uri": "https://localhost:8080/",
          "height": 206
        },
        "outputId": "e81da04b-85d3-45c5-b003-52b675fd7125"
      },
      "source": [
        "df.head()"
      ],
      "execution_count": 231,
      "outputs": [
        {
          "output_type": "execute_result",
          "data": {
            "text/html": [
              "<div>\n",
              "<style scoped>\n",
              "    .dataframe tbody tr th:only-of-type {\n",
              "        vertical-align: middle;\n",
              "    }\n",
              "\n",
              "    .dataframe tbody tr th {\n",
              "        vertical-align: top;\n",
              "    }\n",
              "\n",
              "    .dataframe thead th {\n",
              "        text-align: right;\n",
              "    }\n",
              "</style>\n",
              "<table border=\"1\" class=\"dataframe\">\n",
              "  <thead>\n",
              "    <tr style=\"text-align: right;\">\n",
              "      <th></th>\n",
              "      <th>strain</th>\n",
              "      <th>race</th>\n",
              "      <th>flavors</th>\n",
              "      <th>effects</th>\n",
              "    </tr>\n",
              "  </thead>\n",
              "  <tbody>\n",
              "    <tr>\n",
              "      <th>0</th>\n",
              "      <td>Afpak</td>\n",
              "      <td>hybrid</td>\n",
              "      <td>[Earthy, Chemical, Pine]</td>\n",
              "      <td>{'positive': ['Relaxed', 'Hungry', 'Happy', 'S...</td>\n",
              "    </tr>\n",
              "    <tr>\n",
              "      <th>1</th>\n",
              "      <td>African</td>\n",
              "      <td>sativa</td>\n",
              "      <td>[Spicy/Herbal, Pungent, Earthy]</td>\n",
              "      <td>{'positive': ['Euphoric', 'Happy', 'Creative',...</td>\n",
              "    </tr>\n",
              "    <tr>\n",
              "      <th>2</th>\n",
              "      <td>Afternoon Delight</td>\n",
              "      <td>hybrid</td>\n",
              "      <td>[Pepper, Flowery, Pine]</td>\n",
              "      <td>{'positive': ['Relaxed', 'Hungry', 'Euphoric',...</td>\n",
              "    </tr>\n",
              "    <tr>\n",
              "      <th>3</th>\n",
              "      <td>Afwreck</td>\n",
              "      <td>hybrid</td>\n",
              "      <td>[Pine, Earthy, Flowery]</td>\n",
              "      <td>{'positive': ['Relaxed', 'Happy', 'Creative', ...</td>\n",
              "    </tr>\n",
              "    <tr>\n",
              "      <th>4</th>\n",
              "      <td>Agent Orange</td>\n",
              "      <td>hybrid</td>\n",
              "      <td>[Citrus, Orange, Sweet]</td>\n",
              "      <td>{'positive': ['Relaxed', 'Euphoric', 'Happy', ...</td>\n",
              "    </tr>\n",
              "  </tbody>\n",
              "</table>\n",
              "</div>"
            ],
            "text/plain": [
              "              strain    race                          flavors  \\\n",
              "0              Afpak  hybrid         [Earthy, Chemical, Pine]   \n",
              "1            African  sativa  [Spicy/Herbal, Pungent, Earthy]   \n",
              "2  Afternoon Delight  hybrid          [Pepper, Flowery, Pine]   \n",
              "3            Afwreck  hybrid          [Pine, Earthy, Flowery]   \n",
              "4       Agent Orange  hybrid          [Citrus, Orange, Sweet]   \n",
              "\n",
              "                                             effects  \n",
              "0  {'positive': ['Relaxed', 'Hungry', 'Happy', 'S...  \n",
              "1  {'positive': ['Euphoric', 'Happy', 'Creative',...  \n",
              "2  {'positive': ['Relaxed', 'Hungry', 'Euphoric',...  \n",
              "3  {'positive': ['Relaxed', 'Happy', 'Creative', ...  \n",
              "4  {'positive': ['Relaxed', 'Euphoric', 'Happy', ...  "
            ]
          },
          "metadata": {
            "tags": []
          },
          "execution_count": 231
        }
      ]
    },
    {
      "cell_type": "code",
      "metadata": {
        "id": "oqKiqxsKql47",
        "colab_type": "code",
        "colab": {}
      },
      "source": [
        "df2 = pd.json_normalize(df['effects'])"
      ],
      "execution_count": 232,
      "outputs": []
    },
    {
      "cell_type": "code",
      "metadata": {
        "id": "f187r3hru__7",
        "colab_type": "code",
        "colab": {
          "base_uri": "https://localhost:8080/",
          "height": 206
        },
        "outputId": "aa63b177-a774-4240-a41e-a43fcf4d2fad"
      },
      "source": [
        "df2.head()"
      ],
      "execution_count": 233,
      "outputs": [
        {
          "output_type": "execute_result",
          "data": {
            "text/html": [
              "<div>\n",
              "<style scoped>\n",
              "    .dataframe tbody tr th:only-of-type {\n",
              "        vertical-align: middle;\n",
              "    }\n",
              "\n",
              "    .dataframe tbody tr th {\n",
              "        vertical-align: top;\n",
              "    }\n",
              "\n",
              "    .dataframe thead th {\n",
              "        text-align: right;\n",
              "    }\n",
              "</style>\n",
              "<table border=\"1\" class=\"dataframe\">\n",
              "  <thead>\n",
              "    <tr style=\"text-align: right;\">\n",
              "      <th></th>\n",
              "      <th>positive</th>\n",
              "      <th>negative</th>\n",
              "      <th>medical</th>\n",
              "    </tr>\n",
              "  </thead>\n",
              "  <tbody>\n",
              "    <tr>\n",
              "      <th>0</th>\n",
              "      <td>[Relaxed, Hungry, Happy, Sleepy]</td>\n",
              "      <td>[Dizzy]</td>\n",
              "      <td>[Depression, Insomnia, Pain, Stress, Lack of A...</td>\n",
              "    </tr>\n",
              "    <tr>\n",
              "      <th>1</th>\n",
              "      <td>[Euphoric, Happy, Creative, Energetic, Talkative]</td>\n",
              "      <td>[Dry Mouth]</td>\n",
              "      <td>[Depression, Pain, Stress, Lack of Appetite, N...</td>\n",
              "    </tr>\n",
              "    <tr>\n",
              "      <th>2</th>\n",
              "      <td>[Relaxed, Hungry, Euphoric, Uplifted, Tingly]</td>\n",
              "      <td>[Dizzy, Dry Mouth, Paranoid]</td>\n",
              "      <td>[Depression, Insomnia, Pain, Stress, Cramps, H...</td>\n",
              "    </tr>\n",
              "    <tr>\n",
              "      <th>3</th>\n",
              "      <td>[Relaxed, Happy, Creative, Uplifted, Sleepy]</td>\n",
              "      <td>[Dizzy, Dry Mouth, Paranoid, Dry Eyes]</td>\n",
              "      <td>[Pain, Stress, Headache, Fatigue, Headaches, M...</td>\n",
              "    </tr>\n",
              "    <tr>\n",
              "      <th>4</th>\n",
              "      <td>[Relaxed, Euphoric, Happy, Energetic, Uplifted]</td>\n",
              "      <td>[Dizzy, Dry Mouth, Paranoid, Dry Eyes]</td>\n",
              "      <td>[Depression, Pain, Stress, Nausea, Headache, H...</td>\n",
              "    </tr>\n",
              "  </tbody>\n",
              "</table>\n",
              "</div>"
            ],
            "text/plain": [
              "                                            positive  \\\n",
              "0                   [Relaxed, Hungry, Happy, Sleepy]   \n",
              "1  [Euphoric, Happy, Creative, Energetic, Talkative]   \n",
              "2      [Relaxed, Hungry, Euphoric, Uplifted, Tingly]   \n",
              "3       [Relaxed, Happy, Creative, Uplifted, Sleepy]   \n",
              "4    [Relaxed, Euphoric, Happy, Energetic, Uplifted]   \n",
              "\n",
              "                                 negative  \\\n",
              "0                                 [Dizzy]   \n",
              "1                             [Dry Mouth]   \n",
              "2            [Dizzy, Dry Mouth, Paranoid]   \n",
              "3  [Dizzy, Dry Mouth, Paranoid, Dry Eyes]   \n",
              "4  [Dizzy, Dry Mouth, Paranoid, Dry Eyes]   \n",
              "\n",
              "                                             medical  \n",
              "0  [Depression, Insomnia, Pain, Stress, Lack of A...  \n",
              "1  [Depression, Pain, Stress, Lack of Appetite, N...  \n",
              "2  [Depression, Insomnia, Pain, Stress, Cramps, H...  \n",
              "3  [Pain, Stress, Headache, Fatigue, Headaches, M...  \n",
              "4  [Depression, Pain, Stress, Nausea, Headache, H...  "
            ]
          },
          "metadata": {
            "tags": []
          },
          "execution_count": 233
        }
      ]
    },
    {
      "cell_type": "code",
      "metadata": {
        "id": "WlGIAkGyvVJv",
        "colab_type": "code",
        "colab": {}
      },
      "source": [
        "df = pd.concat([df, df2], axis=1)"
      ],
      "execution_count": 234,
      "outputs": []
    },
    {
      "cell_type": "code",
      "metadata": {
        "id": "k6tjMs5EwkJ8",
        "colab_type": "code",
        "colab": {
          "base_uri": "https://localhost:8080/",
          "height": 35
        },
        "outputId": "a28efc9f-7226-4624-a486-68f1c1fd7e16"
      },
      "source": [
        "df.shape"
      ],
      "execution_count": 235,
      "outputs": [
        {
          "output_type": "execute_result",
          "data": {
            "text/plain": [
              "(1970, 7)"
            ]
          },
          "metadata": {
            "tags": []
          },
          "execution_count": 235
        }
      ]
    },
    {
      "cell_type": "code",
      "metadata": {
        "id": "zWKQlwya0TON",
        "colab_type": "code",
        "colab": {}
      },
      "source": [
        "df = df.merge(df_with_desc, how='inner', left_on='strain', right_on='Strain')\n",
        "df = df.drop(['effects', 'Strain'], axis=1)"
      ],
      "execution_count": 236,
      "outputs": []
    },
    {
      "cell_type": "code",
      "metadata": {
        "id": "CLSigN772ZHV",
        "colab_type": "code",
        "colab": {
          "base_uri": "https://localhost:8080/",
          "height": 206
        },
        "outputId": "e8db4c4f-9d21-45fe-c51d-50e0560a40f4"
      },
      "source": [
        "df.head()"
      ],
      "execution_count": 237,
      "outputs": [
        {
          "output_type": "execute_result",
          "data": {
            "text/html": [
              "<div>\n",
              "<style scoped>\n",
              "    .dataframe tbody tr th:only-of-type {\n",
              "        vertical-align: middle;\n",
              "    }\n",
              "\n",
              "    .dataframe tbody tr th {\n",
              "        vertical-align: top;\n",
              "    }\n",
              "\n",
              "    .dataframe thead th {\n",
              "        text-align: right;\n",
              "    }\n",
              "</style>\n",
              "<table border=\"1\" class=\"dataframe\">\n",
              "  <thead>\n",
              "    <tr style=\"text-align: right;\">\n",
              "      <th></th>\n",
              "      <th>strain</th>\n",
              "      <th>race</th>\n",
              "      <th>flavors</th>\n",
              "      <th>positive</th>\n",
              "      <th>negative</th>\n",
              "      <th>medical</th>\n",
              "      <th>Type</th>\n",
              "      <th>Rating</th>\n",
              "      <th>Description</th>\n",
              "    </tr>\n",
              "  </thead>\n",
              "  <tbody>\n",
              "    <tr>\n",
              "      <th>0</th>\n",
              "      <td>Afpak</td>\n",
              "      <td>hybrid</td>\n",
              "      <td>[Earthy, Chemical, Pine]</td>\n",
              "      <td>[Relaxed, Hungry, Happy, Sleepy]</td>\n",
              "      <td>[Dizzy]</td>\n",
              "      <td>[Depression, Insomnia, Pain, Stress, Lack of A...</td>\n",
              "      <td>hybrid</td>\n",
              "      <td>4.2</td>\n",
              "      <td>Afpak, named for its direct Afghani and Pakist...</td>\n",
              "    </tr>\n",
              "    <tr>\n",
              "      <th>1</th>\n",
              "      <td>African</td>\n",
              "      <td>sativa</td>\n",
              "      <td>[Spicy/Herbal, Pungent, Earthy]</td>\n",
              "      <td>[Euphoric, Happy, Creative, Energetic, Talkative]</td>\n",
              "      <td>[Dry Mouth]</td>\n",
              "      <td>[Depression, Pain, Stress, Lack of Appetite, N...</td>\n",
              "      <td>sativa</td>\n",
              "      <td>3.9</td>\n",
              "      <td>African refers to the indigenous varieties of ...</td>\n",
              "    </tr>\n",
              "    <tr>\n",
              "      <th>2</th>\n",
              "      <td>Afternoon Delight</td>\n",
              "      <td>hybrid</td>\n",
              "      <td>[Pepper, Flowery, Pine]</td>\n",
              "      <td>[Relaxed, Hungry, Euphoric, Uplifted, Tingly]</td>\n",
              "      <td>[Dizzy, Dry Mouth, Paranoid]</td>\n",
              "      <td>[Depression, Insomnia, Pain, Stress, Cramps, H...</td>\n",
              "      <td>hybrid</td>\n",
              "      <td>4.8</td>\n",
              "      <td>Afternoon Delight, created by Colorado Seed In...</td>\n",
              "    </tr>\n",
              "    <tr>\n",
              "      <th>3</th>\n",
              "      <td>Afwreck</td>\n",
              "      <td>hybrid</td>\n",
              "      <td>[Pine, Earthy, Flowery]</td>\n",
              "      <td>[Relaxed, Happy, Creative, Uplifted, Sleepy]</td>\n",
              "      <td>[Dizzy, Dry Mouth, Paranoid, Dry Eyes]</td>\n",
              "      <td>[Pain, Stress, Headache, Fatigue, Headaches, M...</td>\n",
              "      <td>hybrid</td>\n",
              "      <td>4.2</td>\n",
              "      <td>Afwreck is a hybrid cross of Afghani and Train...</td>\n",
              "    </tr>\n",
              "    <tr>\n",
              "      <th>4</th>\n",
              "      <td>Agent Orange</td>\n",
              "      <td>hybrid</td>\n",
              "      <td>[Citrus, Orange, Sweet]</td>\n",
              "      <td>[Relaxed, Euphoric, Happy, Energetic, Uplifted]</td>\n",
              "      <td>[Dizzy, Dry Mouth, Paranoid, Dry Eyes]</td>\n",
              "      <td>[Depression, Pain, Stress, Nausea, Headache, H...</td>\n",
              "      <td>hybrid</td>\n",
              "      <td>4.2</td>\n",
              "      <td>Don’t let the name scare you! The only herbici...</td>\n",
              "    </tr>\n",
              "  </tbody>\n",
              "</table>\n",
              "</div>"
            ],
            "text/plain": [
              "              strain    race                          flavors  \\\n",
              "0              Afpak  hybrid         [Earthy, Chemical, Pine]   \n",
              "1            African  sativa  [Spicy/Herbal, Pungent, Earthy]   \n",
              "2  Afternoon Delight  hybrid          [Pepper, Flowery, Pine]   \n",
              "3            Afwreck  hybrid          [Pine, Earthy, Flowery]   \n",
              "4       Agent Orange  hybrid          [Citrus, Orange, Sweet]   \n",
              "\n",
              "                                            positive  \\\n",
              "0                   [Relaxed, Hungry, Happy, Sleepy]   \n",
              "1  [Euphoric, Happy, Creative, Energetic, Talkative]   \n",
              "2      [Relaxed, Hungry, Euphoric, Uplifted, Tingly]   \n",
              "3       [Relaxed, Happy, Creative, Uplifted, Sleepy]   \n",
              "4    [Relaxed, Euphoric, Happy, Energetic, Uplifted]   \n",
              "\n",
              "                                 negative  \\\n",
              "0                                 [Dizzy]   \n",
              "1                             [Dry Mouth]   \n",
              "2            [Dizzy, Dry Mouth, Paranoid]   \n",
              "3  [Dizzy, Dry Mouth, Paranoid, Dry Eyes]   \n",
              "4  [Dizzy, Dry Mouth, Paranoid, Dry Eyes]   \n",
              "\n",
              "                                             medical    Type  Rating  \\\n",
              "0  [Depression, Insomnia, Pain, Stress, Lack of A...  hybrid     4.2   \n",
              "1  [Depression, Pain, Stress, Lack of Appetite, N...  sativa     3.9   \n",
              "2  [Depression, Insomnia, Pain, Stress, Cramps, H...  hybrid     4.8   \n",
              "3  [Pain, Stress, Headache, Fatigue, Headaches, M...  hybrid     4.2   \n",
              "4  [Depression, Pain, Stress, Nausea, Headache, H...  hybrid     4.2   \n",
              "\n",
              "                                         Description  \n",
              "0  Afpak, named for its direct Afghani and Pakist...  \n",
              "1  African refers to the indigenous varieties of ...  \n",
              "2  Afternoon Delight, created by Colorado Seed In...  \n",
              "3  Afwreck is a hybrid cross of Afghani and Train...  \n",
              "4  Don’t let the name scare you! The only herbici...  "
            ]
          },
          "metadata": {
            "tags": []
          },
          "execution_count": 237
        }
      ]
    },
    {
      "cell_type": "code",
      "metadata": {
        "id": "AzcCJIu82lMJ",
        "colab_type": "code",
        "colab": {
          "base_uri": "https://localhost:8080/",
          "height": 35
        },
        "outputId": "664dc992-d9cd-4f28-bbe0-067e29b3d519"
      },
      "source": [
        "df.shape"
      ],
      "execution_count": 238,
      "outputs": [
        {
          "output_type": "execute_result",
          "data": {
            "text/plain": [
              "(1495, 9)"
            ]
          },
          "metadata": {
            "tags": []
          },
          "execution_count": 238
        }
      ]
    },
    {
      "cell_type": "code",
      "metadata": {
        "id": "eG4ac0bw3Bkd",
        "colab_type": "code",
        "colab": {}
      },
      "source": [
        "# df = df.drop(['effects', 'Strain'], axis=1)"
      ],
      "execution_count": 239,
      "outputs": []
    },
    {
      "cell_type": "code",
      "metadata": {
        "id": "tbXtjR2pLeH9",
        "colab_type": "code",
        "colab": {}
      },
      "source": [
        "df.to_csv('cannabis_strains.csv', index=False)"
      ],
      "execution_count": 240,
      "outputs": []
    }
  ]
}